{
 "cells": [
  {
   "cell_type": "markdown",
   "metadata": {},
   "source": [
    "# Python Built-in Structures\n",
    "\n",
    "- Collections in one variable\n",
    "- Array (in other programming language)\n",
    "- 4 Python collection data types\n",
    "\n",
    "1. List - a collection which is ordered and changeable. Allows duplicate members.       \n",
    "    Syntax: `[value1, value2, ...]`     \n",
    "    Constructor: `list()`\n",
    "\n",
    "2. Tuple - a collection which is ordered and unchangeable. Allows duplicate members     \n",
    "    Syntax: `(value1, value2, ...)`     \n",
    "    Constructor: `tuple()`\n",
    "\n",
    "3. Sets - a collection which is unordered, unchangeable*, and unindexed. No duplicate members       \n",
    "    Syntax: `{value1, value2, ...}`     \n",
    "    Constructor: `set()`\n",
    "    \n",
    "4. Dictionary - a collection which is ordered** and changeable. No duplicate members.       \n",
    "    Syntax: `{keyname1:value1, keyname2:value2, ...}`       \n",
    "    Constructor: `dict()`"
   ]
  },
  {
   "cell_type": "markdown",
   "metadata": {},
   "source": [
    "## Features:\n",
    "\n",
    "### 1. `Ordered` \n",
    "- When we say that `ordered`, it means that the items have a defined order, and that order will not change when you run or execute a program. In `unordered`, the items change its position everytime you executed. `Ordered` items have its `index` number or an index name, while `unordered` was `unindexed`.\n",
    "\n",
    "### 2. `Changeable` \n",
    "- `Changeable` Meaning that we can change, add, and remove items after it has been created. Some collection data type was `unchangeable` items but some have capability to add & remove, meaning the other meaning of `unchangeable` is about for not updating its item values.\n",
    "\n",
    "### 3. `Allow Duplicates` \n",
    "- `Allow Duplicates` can have items with the same value. Other collection data types `do not allow duplicates` meaning the duplicated items ignore the other item and display only the one of duplicated or other display an error.\n",
    "\n"
   ]
  },
  {
   "cell_type": "markdown",
   "metadata": {},
   "source": [
    "## List\n",
    "\n",
    "`[values]`\n",
    "\n",
    "- Created using square brackets\n",
    "- List items are `ordered`, `changeable`, and `allow duplicate` values."
   ]
  },
  {
   "cell_type": "markdown",
   "metadata": {},
   "source": [
    "List items are indexed, the first item has index `[0]`, the second item has index `[1]` etc. You can also used negative indexing which the `[-1]` index start from the last items and `[-2]` is second to the last and etc."
   ]
  },
  {
   "cell_type": "code",
   "execution_count": 1,
   "metadata": {},
   "outputs": [],
   "source": [
    "thislist = [\"apple\", \"banana\", \"cherry\", \"banana\"]\n",
    "# indexing:   0 (-4)   1 (-3)   2 (-2)    3 (-1)"
   ]
  },
  {
   "cell_type": "markdown",
   "metadata": {},
   "source": [
    "### List Items Data Types\n",
    "- List items can be of any data type:"
   ]
  },
  {
   "cell_type": "code",
   "execution_count": 2,
   "metadata": {},
   "outputs": [],
   "source": [
    "list1 = [\"apple\", \"banana\", \"cherry\", \"banana\"]\n",
    "list2 = [3, 1, 6, 100]\n",
    "list3 = [True, False, True]\n",
    "list4 = [\"apple\", [\"banana\", \"cherry\"], \"banana\"]\n",
    "list5 = [\"apple\", [45, \"cherry\"], True]"
   ]
  },
  {
   "cell_type": "markdown",
   "metadata": {},
   "source": [
    "### Access List Items \n",
    "* List items are indexed, and you can access them by referring to the `index number`:\n"
   ]
  },
  {
   "cell_type": "code",
   "execution_count": 3,
   "metadata": {},
   "outputs": [
    {
     "name": "stdout",
     "output_type": "stream",
     "text": [
      "apple\n",
      "cherry\n",
      "banana\n",
      "banana\n"
     ]
    }
   ],
   "source": [
    "thislist = [\"apple\", \"banana\", \"cherry\", \"banana\"]\n",
    "# indexing:   0 (-4)   1 (-3)   2 (-2)    3 (-1)\n",
    "\n",
    "print(thislist[0])\n",
    "print(thislist[2])\n",
    "print(thislist[-1])\n",
    "print(thislist[-3])"
   ]
  },
  {
   "cell_type": "markdown",
   "metadata": {},
   "source": [
    "* Range of Indexes\n",
    "\n",
    "You can specify a `range` of `indexes` by specifying where to `start` and where to `end` the range. When specifying a range, the `return value` will be a `new list with the specified items`."
   ]
  },
  {
   "cell_type": "code",
   "execution_count": 5,
   "metadata": {},
   "outputs": [
    {
     "name": "stdout",
     "output_type": "stream",
     "text": [
      "['cherry', 'banana', 'rambutan']\n"
     ]
    }
   ],
   "source": [
    "mylist = [\"apple\", \"banana\", \"cherry\", \"banana\", \"rambutan\", \"lanzones\"]\n",
    "# indexing: 0 (-6)   1 (-5)   2 (-4)    3 (-3)    4 (-2)      5 (-1)\n",
    "\n",
    "print(mylist[2:5])"
   ]
  },
  {
   "cell_type": "markdown",
   "metadata": {},
   "source": [
    "Note: Remember that the first item has index 0. The search will `start` at index `2` (`included`) and `end` at index `5` (`not included`)."
   ]
  },
  {
   "cell_type": "markdown",
   "metadata": {},
   "source": [
    "By leaving out the start value, the range will start at the first item:"
   ]
  },
  {
   "cell_type": "code",
   "execution_count": 6,
   "metadata": {},
   "outputs": [
    {
     "name": "stdout",
     "output_type": "stream",
     "text": [
      "['apple', 'banana', 'cherry', 'banana', 'rambutan']\n"
     ]
    }
   ],
   "source": [
    "print(mylist[:5])"
   ]
  },
  {
   "cell_type": "markdown",
   "metadata": {},
   "source": [
    "By leaving out the end value, the range will go on to the end of the list:"
   ]
  },
  {
   "cell_type": "code",
   "execution_count": 36,
   "metadata": {},
   "outputs": [
    {
     "name": "stdout",
     "output_type": "stream",
     "text": [
      "['cherry', 'banana', 'rambutan', 'lanzones']\n"
     ]
    }
   ],
   "source": [
    "print(mylist[2:])"
   ]
  },
  {
   "cell_type": "markdown",
   "metadata": {},
   "source": [
    "You can also use negative indexes in a range"
   ]
  },
  {
   "cell_type": "code",
   "execution_count": 37,
   "metadata": {},
   "outputs": [
    {
     "name": "stdout",
     "output_type": "stream",
     "text": [
      "['cherry', 'banana', 'rambutan']\n"
     ]
    }
   ],
   "source": [
    "print(mylist[-4:-1])"
   ]
  },
  {
   "cell_type": "markdown",
   "metadata": {},
   "source": [
    "### Change Items"
   ]
  },
  {
   "cell_type": "markdown",
   "metadata": {},
   "source": [
    "`index number` - To change the value of a specific item, refer to the `index number`. You can also change the multiple items (range) and replace it any number of items."
   ]
  },
  {
   "cell_type": "code",
   "execution_count": 38,
   "metadata": {},
   "outputs": [
    {
     "name": "stdout",
     "output_type": "stream",
     "text": [
      "['kamote', 'banana', 'cherry', 'banana', 'rambutan', 'lanzones']\n",
      "['kamote', 'kamote', 'buko', 'rambutan', 'lanzones']\n"
     ]
    }
   ],
   "source": [
    "mylist = [\"apple\", \"banana\", \"cherry\", \"banana\", \"rambutan\", \"lanzones\"]\n",
    "# indexing: 0 (-6)   1 (-5)   2 (-4)    3 (-3)    4 (-2)      5 (-1)\n",
    "\n",
    "mylist[0] = \"kamote\" # change value of first item\n",
    "print(mylist)\n",
    "\n",
    "mylist[1:4] = [\"kamote\", \"buko\"] # change value of second, third, and fourth item, replace by 2 items only\n",
    "print(mylist)"
   ]
  },
  {
   "cell_type": "markdown",
   "metadata": {},
   "source": [
    "### Add items"
   ]
  },
  {
   "cell_type": "markdown",
   "metadata": {},
   "source": [
    "`append()` - append method add an item to the end of a list"
   ]
  },
  {
   "cell_type": "code",
   "execution_count": 39,
   "metadata": {},
   "outputs": [
    {
     "name": "stdout",
     "output_type": "stream",
     "text": [
      "['apple', 'banana', 'cherry', 'banana', 'rambutan', 'lanzones', 'guava']\n"
     ]
    }
   ],
   "source": [
    "mylist = [\"apple\", \"banana\", \"cherry\", \"banana\", \"rambutan\", \"lanzones\"]\n",
    "# indexing: 0 (-6)   1 (-5)   2 (-4)    3 (-3)    4 (-2)      5 (-1)\n",
    "\n",
    "mylist.append(\"guava\")\n",
    "print(mylist)"
   ]
  },
  {
   "cell_type": "markdown",
   "metadata": {},
   "source": [
    "`insert()` - insert() method inserts an item at the specified index."
   ]
  },
  {
   "cell_type": "code",
   "execution_count": 40,
   "metadata": {},
   "outputs": [
    {
     "name": "stdout",
     "output_type": "stream",
     "text": [
      "['apple', 'sitaw', 'banana', 'cherry', 'banana', 'rambutan', 'lanzones', 'guava']\n"
     ]
    }
   ],
   "source": [
    "mylist.insert(1, \"sitaw\")\n",
    "print(mylist)"
   ]
  },
  {
   "cell_type": "markdown",
   "metadata": {},
   "source": [
    "`extend()` - To append elements from another list to the current list, use the extend() method. The elements will be added to the end of the list"
   ]
  },
  {
   "cell_type": "code",
   "execution_count": 41,
   "metadata": {},
   "outputs": [
    {
     "name": "stdout",
     "output_type": "stream",
     "text": [
      "['apple', 'sitaw', 'banana', 'cherry', 'banana', 'rambutan', 'lanzones', 'guava', 'kalamansi', 'mangga']\n"
     ]
    }
   ],
   "source": [
    "otherlist = [\"kalamansi\", \"mangga\"]\n",
    "mylist.extend(otherlist)\n",
    "print(mylist)"
   ]
  },
  {
   "cell_type": "markdown",
   "metadata": {},
   "source": [
    "### Remove items"
   ]
  },
  {
   "cell_type": "markdown",
   "metadata": {},
   "source": [
    "`remove()` - remove() method removes the specified item"
   ]
  },
  {
   "cell_type": "code",
   "execution_count": 42,
   "metadata": {},
   "outputs": [
    {
     "name": "stdout",
     "output_type": "stream",
     "text": [
      "['apple', 'banana', 'banana', 'rambutan', 'lanzones']\n"
     ]
    }
   ],
   "source": [
    "mylist = [\"apple\", \"banana\", \"cherry\", \"banana\", \"rambutan\", \"lanzones\"]\n",
    "# indexing: 0 (-6)   1 (-5)   2 (-4)    3 (-3)    4 (-2)      5 (-1)\n",
    "\n",
    "mylist.remove(\"cherry\")\n",
    "print(mylist)"
   ]
  },
  {
   "cell_type": "markdown",
   "metadata": {},
   "source": [
    "`pop()` - The pop() method removes the specified index."
   ]
  },
  {
   "cell_type": "code",
   "execution_count": 44,
   "metadata": {},
   "outputs": [
    {
     "name": "stdout",
     "output_type": "stream",
     "text": [
      "['apple', 'banana', 'cherry', 'banana', 'lanzones']\n",
      "['apple', 'banana', 'cherry', 'banana']\n"
     ]
    }
   ],
   "source": [
    "mylist = [\"apple\", \"banana\", \"cherry\", \"banana\", \"rambutan\", \"lanzones\"]\n",
    "# indexing: 0 (-6)   1 (-5)   2 (-4)    3 (-3)    4 (-2)      5 (-1)\n",
    "\n",
    "mylist.pop(4) # remove index [4] - \"rambutan\"\n",
    "print(mylist)\n",
    "\n",
    "mylist.pop() # remove the last item\n",
    "print(mylist)"
   ]
  },
  {
   "cell_type": "markdown",
   "metadata": {},
   "source": [
    "`del` - The del keyword removes the specified index"
   ]
  },
  {
   "cell_type": "code",
   "execution_count": 45,
   "metadata": {},
   "outputs": [
    {
     "name": "stdout",
     "output_type": "stream",
     "text": [
      "['apple', 'banana', 'cherry', 'banana', 'lanzones']\n"
     ]
    }
   ],
   "source": [
    "mylist = [\"apple\", \"banana\", \"cherry\", \"banana\", \"rambutan\", \"lanzones\"]\n",
    "# indexing: 0 (-6)   1 (-5)   2 (-4)    3 (-3)    4 (-2)      5 (-1)\n",
    "\n",
    "del mylist[4] # remove index [4] - \"rambutan\"\n",
    "print(mylist)"
   ]
  },
  {
   "cell_type": "code",
   "execution_count": 46,
   "metadata": {},
   "outputs": [
    {
     "ename": "NameError",
     "evalue": "name 'mylist' is not defined",
     "output_type": "error",
     "traceback": [
      "\u001b[1;31m---------------------------------------------------------------------------\u001b[0m",
      "\u001b[1;31mNameError\u001b[0m                                 Traceback (most recent call last)",
      "Cell \u001b[1;32mIn [46], line 6\u001b[0m\n\u001b[0;32m      3\u001b[0m mylist \u001b[39m=\u001b[39m [\u001b[39m\"\u001b[39m\u001b[39mapple\u001b[39m\u001b[39m\"\u001b[39m, \u001b[39m\"\u001b[39m\u001b[39mbanana\u001b[39m\u001b[39m\"\u001b[39m, \u001b[39m\"\u001b[39m\u001b[39mcherry\u001b[39m\u001b[39m\"\u001b[39m, \u001b[39m\"\u001b[39m\u001b[39mbanana\u001b[39m\u001b[39m\"\u001b[39m, \u001b[39m\"\u001b[39m\u001b[39mrambutan\u001b[39m\u001b[39m\"\u001b[39m, \u001b[39m\"\u001b[39m\u001b[39mlanzones\u001b[39m\u001b[39m\"\u001b[39m]\n\u001b[0;32m      5\u001b[0m \u001b[39mdel\u001b[39;00m mylist \u001b[39m# remove entire list\u001b[39;00m\n\u001b[1;32m----> 6\u001b[0m \u001b[39mprint\u001b[39m(mylist)\n",
      "\u001b[1;31mNameError\u001b[0m: name 'mylist' is not defined"
     ]
    }
   ],
   "source": [
    "# del keyword can also delete the list completely\n",
    "\n",
    "mylist = [\"apple\", \"banana\", \"cherry\", \"banana\", \"rambutan\", \"lanzones\"]\n",
    "\n",
    "del mylist # remove entire list\n",
    "print(mylist)"
   ]
  },
  {
   "cell_type": "markdown",
   "metadata": {},
   "source": [
    "`clear()` - The clear() method empties the list. The list still remains, but it has no content."
   ]
  },
  {
   "cell_type": "code",
   "execution_count": 64,
   "metadata": {},
   "outputs": [
    {
     "name": "stdout",
     "output_type": "stream",
     "text": [
      "[]\n"
     ]
    }
   ],
   "source": [
    "mylist = [\"apple\", \"banana\", \"cherry\", \"banana\", \"rambutan\", \"lanzones\"]\n",
    "\n",
    "mylist.clear()\n",
    "print(mylist)"
   ]
  },
  {
   "cell_type": "markdown",
   "metadata": {},
   "source": [
    "### Sort List\n",
    "`sort()` method that will sort the list alphanumerically"
   ]
  },
  {
   "cell_type": "markdown",
   "metadata": {},
   "source": [
    "Sort the list alphabetically"
   ]
  },
  {
   "cell_type": "code",
   "execution_count": 4,
   "metadata": {},
   "outputs": [
    {
     "name": "stdout",
     "output_type": "stream",
     "text": [
      "['apple', 'banana', 'banana', 'cherry', 'lanzones', 'rambutan']\n"
     ]
    }
   ],
   "source": [
    "mylist = [\"apple\", \"banana\", \"cherry\", \"banana\", \"rambutan\", \"lanzones\"]\n",
    "\n",
    "mylist.sort()\n",
    "print(mylist)"
   ]
  },
  {
   "cell_type": "markdown",
   "metadata": {},
   "source": [
    "Sort the list numerically"
   ]
  },
  {
   "cell_type": "code",
   "execution_count": 2,
   "metadata": {},
   "outputs": [
    {
     "name": "stdout",
     "output_type": "stream",
     "text": [
      "[2, 3, 4, 5]\n"
     ]
    }
   ],
   "source": [
    "mylist = [4,3,5,2]\n",
    "\n",
    "mylist.sort()\n",
    "print(mylist)"
   ]
  },
  {
   "cell_type": "markdown",
   "metadata": {},
   "source": [
    "`Note: sort() method is ordered in ascending as default`"
   ]
  },
  {
   "cell_type": "markdown",
   "metadata": {},
   "source": [
    "Sort in Descending Order"
   ]
  },
  {
   "cell_type": "code",
   "execution_count": 3,
   "metadata": {},
   "outputs": [
    {
     "name": "stdout",
     "output_type": "stream",
     "text": [
      "[5, 4, 3, 2]\n"
     ]
    }
   ],
   "source": [
    "mylist = [4,3,5,2]\n",
    "\n",
    "mylist.sort(reverse = True)\n",
    "print(mylist)"
   ]
  },
  {
   "cell_type": "markdown",
   "metadata": {},
   "source": [
    "By default the sort() method is `case sensitive`, resulting in all `capital letters` being sorted before `lower case letters`:"
   ]
  },
  {
   "cell_type": "markdown",
   "metadata": {},
   "source": [
    "`Reverse Order` - The `reverse()` method reverses the current sorting order of the elements"
   ]
  },
  {
   "cell_type": "code",
   "execution_count": 4,
   "metadata": {},
   "outputs": [
    {
     "name": "stdout",
     "output_type": "stream",
     "text": [
      "[2, 5, 3, 4]\n"
     ]
    }
   ],
   "source": [
    "mylist = [4,3,5,2]\n",
    "\n",
    "mylist.reverse()\n",
    "print(mylist)"
   ]
  },
  {
   "cell_type": "markdown",
   "metadata": {},
   "source": [
    "### Copy a List\n",
    "- You cannot copy a list simply by typing `list2 = list1`, because: list2 will only be a reference to list1, and changes made in list1 will automatically also be made in list2."
   ]
  },
  {
   "cell_type": "markdown",
   "metadata": {},
   "source": [
    "`Copy()` Method"
   ]
  },
  {
   "cell_type": "code",
   "execution_count": 5,
   "metadata": {},
   "outputs": [
    {
     "name": "stdout",
     "output_type": "stream",
     "text": [
      "[4, 3, 5, 2]\n"
     ]
    }
   ],
   "source": [
    "mylist = [4,3,5,2]\n",
    "\n",
    "list2 = mylist.copy()\n",
    "print(list2)"
   ]
  },
  {
   "cell_type": "markdown",
   "metadata": {},
   "source": [
    "`list()` Constructor Method"
   ]
  },
  {
   "cell_type": "code",
   "execution_count": 6,
   "metadata": {},
   "outputs": [
    {
     "name": "stdout",
     "output_type": "stream",
     "text": [
      "[4, 3, 5, 2]\n"
     ]
    }
   ],
   "source": [
    "mylist = [4,3,5,2]\n",
    "\n",
    "list2 = list(mylist)\n",
    "print(list2)"
   ]
  },
  {
   "cell_type": "markdown",
   "metadata": {},
   "source": [
    "### Join List\n",
    "- There are several ways to join, or concatenate, two or more lists in Python."
   ]
  },
  {
   "cell_type": "markdown",
   "metadata": {},
   "source": [
    "`+` operator"
   ]
  },
  {
   "cell_type": "code",
   "execution_count": 7,
   "metadata": {},
   "outputs": [
    {
     "name": "stdout",
     "output_type": "stream",
     "text": [
      "[4, 3, 5, 2, 7, 5, 60, 12]\n"
     ]
    }
   ],
   "source": [
    "list1 = [4,3,5,2]\n",
    "list2 = [7,5,60,12]\n",
    "list3 = list1 + list2\n",
    "print(list3)"
   ]
  },
  {
   "cell_type": "markdown",
   "metadata": {},
   "source": [
    "`extend()` method - to add list2 at the end of list1"
   ]
  },
  {
   "cell_type": "code",
   "execution_count": 8,
   "metadata": {},
   "outputs": [
    {
     "name": "stdout",
     "output_type": "stream",
     "text": [
      "[4, 3, 5, 2, 7, 5, 60, 12]\n"
     ]
    }
   ],
   "source": [
    "list1 = [4,3,5,2]\n",
    "list2 = [7,5,60,12]\n",
    "list1.extend(list2)\n",
    "print(list1)"
   ]
  },
  {
   "cell_type": "markdown",
   "metadata": {},
   "source": [
    "## Tuple\n",
    "\n",
    "`(values)`\n",
    "\n",
    "- Created using round brackets\n",
    "- Tuple items are `ordered`, `unchangeable`, and `allow duplicate` values."
   ]
  },
  {
   "cell_type": "markdown",
   "metadata": {},
   "source": [
    "Tuple items are indexed, the first item has index [0], the second item has index [1] etc."
   ]
  },
  {
   "cell_type": "code",
   "execution_count": 7,
   "metadata": {},
   "outputs": [],
   "source": [
    "thistuple = (\"apple\", \"banana\", \"cherry\", \"banana\")\n",
    "# indexing:   0 (-4)   1 (-3)   2 (-2)    3 (-1)"
   ]
  },
  {
   "cell_type": "markdown",
   "metadata": {},
   "source": [
    "Tuple Items Data Types"
   ]
  },
  {
   "cell_type": "code",
   "execution_count": 1,
   "metadata": {},
   "outputs": [],
   "source": [
    "thistuple = (\"apple\", 1, True, 1.5)"
   ]
  },
  {
   "cell_type": "markdown",
   "metadata": {},
   "source": [
    "### Access Tuples\n",
    "- You can access tuple items by referring to the index number, inside square brackets:\n"
   ]
  },
  {
   "cell_type": "code",
   "execution_count": 3,
   "metadata": {},
   "outputs": [
    {
     "name": "stdout",
     "output_type": "stream",
     "text": [
      "apple\n"
     ]
    }
   ],
   "source": [
    "thistuple = (\"apple\", \"banana\", \"cherry\", \"banana\")\n",
    "print(thistuple[0])"
   ]
  },
  {
   "cell_type": "markdown",
   "metadata": {},
   "source": [
    "Note: You can also used Negative Indexing and Range in Tuple"
   ]
  },
  {
   "cell_type": "markdown",
   "metadata": {},
   "source": [
    "### Create Tuple with One Item\n",
    "To create a tuple with only one item, you have to add a comma after the item, otherwise Python will not recognize it as a tuple.\n"
   ]
  },
  {
   "cell_type": "code",
   "execution_count": 5,
   "metadata": {},
   "outputs": [
    {
     "name": "stdout",
     "output_type": "stream",
     "text": [
      "<class 'str'>\n",
      "<class 'tuple'>\n"
     ]
    }
   ],
   "source": [
    "thisstring = (\"apple\")\n",
    "print(type(thisstring))\n",
    "\n",
    "thistuple = (\"apple\",)\n",
    "print(type(thistuple))"
   ]
  },
  {
   "cell_type": "markdown",
   "metadata": {},
   "source": [
    "### Change Items or Update Tuples\n",
    "- Tuples are unchangeable, meaning that you cannot change, add, or remove items once the tuple is created. But there are some workarounds.\n",
    "- You can convert the tuple into a list, change the list, and convert the list back into a tuple.\n",
    "\n",
    "Convert the tuple into a list to be able to change it:\n"
   ]
  },
  {
   "cell_type": "code",
   "execution_count": 7,
   "metadata": {},
   "outputs": [
    {
     "name": "stdout",
     "output_type": "stream",
     "text": [
      "('mango', 'banana', 'cherry', 'banana')\n"
     ]
    }
   ],
   "source": [
    "thistuple = (\"apple\", \"banana\", \"cherry\", \"banana\")\n",
    "newvar = list(thistuple) # convert to list\n",
    "newvar[0] = \"mango\" # change first item value\n",
    "thistuple = tuple(newvar) # convert back to tuple\n",
    "print(thistuple)"
   ]
  },
  {
   "cell_type": "markdown",
   "metadata": {},
   "source": [
    "### Add Items\n",
    "- Since tuples are immutable, they do not have a build-in append() method, but there are other ways to add items to a tuple.\n"
   ]
  },
  {
   "cell_type": "markdown",
   "metadata": {},
   "source": [
    "Convert into a list: Just like the workaround for changing a tuple, you can convert it into a list, add your item(s), and convert it back into a tuple."
   ]
  },
  {
   "cell_type": "code",
   "execution_count": 8,
   "metadata": {},
   "outputs": [
    {
     "name": "stdout",
     "output_type": "stream",
     "text": [
      "('apple', 'banana', 'cherry', 'banana', 'mango')\n"
     ]
    }
   ],
   "source": [
    "thistuple = (\"apple\", \"banana\", \"cherry\", \"banana\")\n",
    "newvar = list(thistuple) # convert to list\n",
    "newvar.append(\"mango\") # add item\n",
    "thistuple = tuple(newvar) # convert back to tuple\n",
    "print(thistuple)"
   ]
  },
  {
   "cell_type": "markdown",
   "metadata": {},
   "source": [
    "Add tuple to a tuple. You are allowed to add tuples to tuples, so if you want to add one item, (or many), create a new tuple with the item(s), and add it to the existing tuple:"
   ]
  },
  {
   "cell_type": "code",
   "execution_count": 9,
   "metadata": {},
   "outputs": [
    {
     "name": "stdout",
     "output_type": "stream",
     "text": [
      "('apple', 'banana', 'cherry', 'banana', 'mango', 'guava')\n"
     ]
    }
   ],
   "source": [
    "thistuple = (\"apple\", \"banana\", \"cherry\", \"banana\")\n",
    "tuple2 = (\"mango\", \"guava\")\n",
    "thistuple = thistuple + tuple2\n",
    "print(thistuple)"
   ]
  },
  {
   "cell_type": "markdown",
   "metadata": {},
   "source": [
    "### Remove Items\n",
    "- Tuples are unchangeable, so you cannot remove items from it, but you can use the same workaround as we used for changing and adding tuple items:"
   ]
  },
  {
   "cell_type": "code",
   "execution_count": 10,
   "metadata": {},
   "outputs": [
    {
     "name": "stdout",
     "output_type": "stream",
     "text": [
      "('banana', 'cherry', 'banana')\n"
     ]
    }
   ],
   "source": [
    "thistuple = (\"apple\", \"banana\", \"cherry\", \"banana\")\n",
    "newvar = list(thistuple) # convert to list\n",
    "del newvar[0] # remove first item\n",
    "thistuple = tuple(newvar) # convert back to tuple\n",
    "print(thistuple)"
   ]
  },
  {
   "cell_type": "markdown",
   "metadata": {},
   "source": [
    "Or you can delete the tuple completely:\n",
    "The del keyword can delete the tuple completely\n"
   ]
  },
  {
   "cell_type": "code",
   "execution_count": 11,
   "metadata": {},
   "outputs": [
    {
     "ename": "NameError",
     "evalue": "name 'thistuple' is not defined",
     "output_type": "error",
     "traceback": [
      "\u001b[1;31m---------------------------------------------------------------------------\u001b[0m",
      "\u001b[1;31mNameError\u001b[0m                                 Traceback (most recent call last)",
      "Cell \u001b[1;32mIn [11], line 3\u001b[0m\n\u001b[0;32m      1\u001b[0m thistuple \u001b[39m=\u001b[39m (\u001b[39m\"\u001b[39m\u001b[39mapple\u001b[39m\u001b[39m\"\u001b[39m, \u001b[39m\"\u001b[39m\u001b[39mbanana\u001b[39m\u001b[39m\"\u001b[39m, \u001b[39m\"\u001b[39m\u001b[39mcherry\u001b[39m\u001b[39m\"\u001b[39m, \u001b[39m\"\u001b[39m\u001b[39mbanana\u001b[39m\u001b[39m\"\u001b[39m)\n\u001b[0;32m      2\u001b[0m \u001b[39mdel\u001b[39;00m thistuple\n\u001b[1;32m----> 3\u001b[0m \u001b[39mprint\u001b[39m(thistuple)\n",
      "\u001b[1;31mNameError\u001b[0m: name 'thistuple' is not defined"
     ]
    }
   ],
   "source": [
    "thistuple = (\"apple\", \"banana\", \"cherry\", \"banana\")\n",
    "del thistuple\n",
    "print(thistuple)"
   ]
  },
  {
   "cell_type": "markdown",
   "metadata": {},
   "source": [
    "### Unpack Tuples\n"
   ]
  },
  {
   "cell_type": "markdown",
   "metadata": {},
   "source": [
    "### Join Tuple\n"
   ]
  },
  {
   "cell_type": "markdown",
   "metadata": {},
   "source": [
    "## Set"
   ]
  },
  {
   "cell_type": "markdown",
   "metadata": {},
   "source": []
  },
  {
   "cell_type": "markdown",
   "metadata": {},
   "source": []
  },
  {
   "cell_type": "markdown",
   "metadata": {},
   "source": [
    "### Access Set Items\n"
   ]
  },
  {
   "cell_type": "markdown",
   "metadata": {},
   "source": [
    "### Change Items\n"
   ]
  },
  {
   "cell_type": "markdown",
   "metadata": {},
   "source": [
    "### Add Items\n"
   ]
  },
  {
   "cell_type": "markdown",
   "metadata": {},
   "source": [
    "### Remove Items\n"
   ]
  },
  {
   "cell_type": "markdown",
   "metadata": {},
   "source": [
    "### Copy Sets"
   ]
  },
  {
   "cell_type": "markdown",
   "metadata": {},
   "source": [
    "### Join Sets"
   ]
  },
  {
   "cell_type": "markdown",
   "metadata": {},
   "source": [
    "## Dictionary"
   ]
  },
  {
   "cell_type": "markdown",
   "metadata": {},
   "source": []
  },
  {
   "cell_type": "markdown",
   "metadata": {},
   "source": []
  },
  {
   "cell_type": "markdown",
   "metadata": {},
   "source": [
    "### Access Dictionary Items\n"
   ]
  },
  {
   "cell_type": "markdown",
   "metadata": {},
   "source": [
    "### Change Items\n"
   ]
  },
  {
   "cell_type": "markdown",
   "metadata": {},
   "source": [
    "### Add Items\n"
   ]
  },
  {
   "cell_type": "markdown",
   "metadata": {},
   "source": [
    "### Remove Items\n"
   ]
  },
  {
   "cell_type": "markdown",
   "metadata": {},
   "source": [
    "### Copy Item\n"
   ]
  },
  {
   "cell_type": "markdown",
   "metadata": {},
   "source": [
    "### Join Dictionary\n"
   ]
  },
  {
   "cell_type": "markdown",
   "metadata": {},
   "source": [
    "## Most useful codes for collection data types"
   ]
  },
  {
   "cell_type": "markdown",
   "metadata": {},
   "source": [
    "len() function"
   ]
  },
  {
   "cell_type": "code",
   "execution_count": 9,
   "metadata": {},
   "outputs": [
    {
     "name": "stdout",
     "output_type": "stream",
     "text": [
      "4\n",
      "4\n",
      "3\n",
      "4\n"
     ]
    }
   ],
   "source": [
    "#len() use for counting number of items in a container\n",
    "\n",
    "thislist = [\"apple\", \"banana\", \"cherry\", \"banana\"]\n",
    "thistuple = (\"apple\", \"banana\", \"cherry\", \"banana\")\n",
    "thisset = {\"apple\", \"banana\", \"cherry\", \"banana\"}\n",
    "thisdictionary = {\"fruit1\" : \"apple\", \"fruit2\" : \"banana\", \"fruit3\" : \"cherry\", \"fruit4\" : \"banana\"}\n",
    "\n",
    "print(len(thislist))\n",
    "print(len(thistuple))\n",
    "print(len(thisset))\n",
    "print(len(thisdictionary))"
   ]
  },
  {
   "cell_type": "markdown",
   "metadata": {},
   "source": [
    "constructor method/function\n",
    "\n",
    "`list()`        \n",
    "`tuple()`       \n",
    "`set()`     \n",
    "`dict()`        \n",
    "\n"
   ]
  },
  {
   "cell_type": "markdown",
   "metadata": {},
   "source": [
    "membership operator (checking if an item exist)"
   ]
  },
  {
   "cell_type": "code",
   "execution_count": 19,
   "metadata": {},
   "outputs": [
    {
     "name": "stdout",
     "output_type": "stream",
     "text": [
      "Yes\n",
      "Yes\n",
      "Yes\n",
      "Yes\n",
      "Yes\n"
     ]
    }
   ],
   "source": [
    "thislist = [\"apple\", \"banana\", \"cherry\", \"banana\"]\n",
    "thistuple = (\"apple\", \"banana\", \"cherry\", \"banana\")\n",
    "thisset = {\"apple\", \"banana\", \"cherry\", \"banana\"}\n",
    "thisdictionary = {\"fruit1\" : \"apple\", \"fruit2\" : \"banana\", \"fruit3\" : \"cherry\", \"fruit4\" : \"banana\"}\n",
    "\n",
    "if \"apple\" in thislist:\n",
    "    print(\"Yes\")\n",
    "\n",
    "if \"apple\" in thistuple:\n",
    "    print(\"Yes\")\n",
    "\n",
    "if \"apple\" in thisset:\n",
    "    print(\"Yes\")\n",
    "\n",
    "if \"apple\" in thisdictionary.values():\n",
    "    print(\"Yes\")\n",
    "\n",
    "if \"fruit1\" in thisdictionary.keys():\n",
    "    print(\"Yes\")"
   ]
  },
  {
   "cell_type": "markdown",
   "metadata": {},
   "source": [
    "`Loop` - can loop through the items by using a `for` loop"
   ]
  },
  {
   "cell_type": "code",
   "execution_count": 4,
   "metadata": {},
   "outputs": [
    {
     "name": "stdout",
     "output_type": "stream",
     "text": [
      "apple from a list\n",
      "banana from a list\n",
      "cherry from a list\n",
      "banana from a list\n"
     ]
    }
   ],
   "source": [
    "thislist = [\"apple\", \"banana\", \"cherry\", \"banana\"]\n",
    "for val in thislist:\n",
    "    print(val + \" from a list\")\n",
    "\n",
    "## using for loop in range:\n",
    "# for index in range(len(thislist)):\n",
    "#     print(thislist[index] + \" from a list\")\n",
    "\n",
    "## using while loop:\n",
    "# counter_index = 0\n",
    "# while counter_index < len(thislist):\n",
    "#     print(thislist[counter_index] + \" from a list\")\n",
    "#     counter_index = counter_index + 1"
   ]
  },
  {
   "cell_type": "code",
   "execution_count": 6,
   "metadata": {},
   "outputs": [
    {
     "name": "stdout",
     "output_type": "stream",
     "text": [
      "apple from a tuple\n",
      "banana from a tuple\n",
      "cherry from a tuple\n",
      "banana from a tuple\n"
     ]
    }
   ],
   "source": [
    "thistuple = (\"apple\", \"banana\", \"cherry\", \"banana\")\n",
    "for val in thistuple:\n",
    "    print(val + \" from a tuple\")\n",
    "\n",
    "# # using for loop in range:\n",
    "# for index in range(len(thistuple)):\n",
    "#     print(thistuple[index] + \" from a list\")\n",
    "\n",
    "# # using while loop:\n",
    "# counter_index = 0\n",
    "# while counter_index < len(thistuple):\n",
    "#     print(thistuple[counter_index] + \" from a list\")\n",
    "#     counter_index = counter_index + 1"
   ]
  },
  {
   "cell_type": "code",
   "execution_count": 62,
   "metadata": {},
   "outputs": [
    {
     "name": "stdout",
     "output_type": "stream",
     "text": [
      "banana from a set\n",
      "apple from a set\n",
      "cherry from a set\n"
     ]
    }
   ],
   "source": [
    "thisset = {\"apple\", \"banana\", \"cherry\", \"banana\"}\n",
    "for val in thisset:\n",
    "    print(val + \" from a set\")\n"
   ]
  },
  {
   "cell_type": "code",
   "execution_count": 63,
   "metadata": {},
   "outputs": [
    {
     "name": "stdout",
     "output_type": "stream",
     "text": [
      "apple from a dictionary\n",
      "banana from a dictionary\n",
      "cherry from a dictionary\n",
      "banana from a dictionary\n",
      "fruit1\n",
      "fruit2\n",
      "fruit3\n",
      "fruit4\n",
      "apple\n",
      "fruit1\n",
      "banana\n",
      "fruit2\n",
      "cherry\n",
      "fruit3\n",
      "banana\n",
      "fruit4\n",
      "('fruit1', 'apple')\n",
      "('fruit2', 'banana')\n",
      "('fruit3', 'cherry')\n",
      "('fruit4', 'banana')\n",
      "fruit1\n",
      "apple\n",
      "fruit2\n",
      "banana\n",
      "fruit3\n",
      "cherry\n",
      "fruit4\n",
      "banana\n"
     ]
    }
   ],
   "source": [
    "thisdictionary = {\n",
    "    \"fruit1\" : \"apple\", \n",
    "    \"fruit2\" : \"banana\", \n",
    "    \"fruit3\" : \"cherry\", \n",
    "    \"fruit4\" : \"banana\"\n",
    "}\n",
    "for x in thisdictionary.values():\n",
    "    print(x + \" from a dictionary\")\n",
    "\n",
    "for x in thisdictionary:\n",
    "    print(x)\n",
    "\n",
    "for x in thisdictionary.keys():\n",
    "    print(thisdictionary[x])\n",
    "    print(x)\n",
    "\n",
    "for x in thisdictionary.items():\n",
    "    print(x)\n",
    "\n",
    "for x,y in thisdictionary.items():\n",
    "    print(x)\n",
    "    print(y)"
   ]
  }
 ],
 "metadata": {
  "kernelspec": {
   "display_name": "Python 3.10.8 64-bit",
   "language": "python",
   "name": "python3"
  },
  "language_info": {
   "codemirror_mode": {
    "name": "ipython",
    "version": 3
   },
   "file_extension": ".py",
   "mimetype": "text/x-python",
   "name": "python",
   "nbconvert_exporter": "python",
   "pygments_lexer": "ipython3",
   "version": "3.10.8"
  },
  "orig_nbformat": 4,
  "vscode": {
   "interpreter": {
    "hash": "3103f0df81466cced26978c1f00aec304c6c4f54b027625b12ba1120a1fef288"
   }
  }
 },
 "nbformat": 4,
 "nbformat_minor": 2
}
