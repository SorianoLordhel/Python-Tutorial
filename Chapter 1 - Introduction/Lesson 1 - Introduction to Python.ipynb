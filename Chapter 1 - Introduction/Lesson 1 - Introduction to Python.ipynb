{
 "cells": [
  {
   "cell_type": "markdown",
   "metadata": {},
   "source": [
    "# INTRODUCTION TO PYTHON PROGRAMMING\n",
    "- Python is written in `C`. It was developed by `Guido Van Rossum` in the late `1980s`."
   ]
  },
  {
   "cell_type": "markdown",
   "metadata": {},
   "source": [
    "## Python Requirements\n"
   ]
  },
  {
   "cell_type": "markdown",
   "metadata": {},
   "source": [
    "### 1. Interpreter or `Python Interpreter` (*Required)  \n",
    "- If you are working in `Unix` or `Linux`, you don’t need to install `Python`. This is because in Unix and Linux systems, Python is generally pre-installed. \n",
    "- However, if you work in `Windows` or `Mac` then you need to download `Python`. Once you have decided to download Python, look for its latest version. The reader is requested to ensure that the version he/she intends to download is not an alpha or a beta version. Download at `https://www.python.org/` "
   ]
  },
  {
   "cell_type": "markdown",
   "metadata": {},
   "source": [
    "### 2. Integrated Development Environment (IDE) (*Choice #1)  \n",
    "Many Integrated Development Environments are available for Python.  \n",
    "Some of them are as follows:\n",
    "- PyDev\n",
    "- Anaconda\n",
    "- Pycharm\n",
    "- IDLE\n",
    "- Spyder\n",
    "- Jupyter Notebook"
   ]
  },
  {
   "cell_type": "markdown",
   "metadata": {},
   "source": [
    "### 3. Text Editor with Python Debugger plugins. (*Choice #2)  \n",
    "- Visual Studio Code\n",
    "- Sublime\n",
    "- Atom\n",
    "- Notepad++"
   ]
  },
  {
   "cell_type": "markdown",
   "metadata": {},
   "source": [
    "Note: You can chose only one in `IDE` or a `Text Editor`. Python `Interpreter` is required."
   ]
  },
  {
   "cell_type": "markdown",
   "metadata": {},
   "source": [
    "## Virtual Environment \n",
    "- A virtual environment is a Python environment such that the Python interpreter, libraries and scripts installed into it are isolated from those installed in other virtual environments, and (by default) any libraries installed in a “system” Python, i.e., one which is installed as part of your operating system.\n",
    "\n",
    "### Creation of virtual environments\n",
    "#### The venv\n",
    "- The venv module provides support for creating lightweight “virtual environments” with their own site directories, optionally isolated from system site directories. Each virtual environment has its own Python binary (which matches the version of the binary that was used to create this environment) and can have its own independent set of installed Python packages in its site directories.\n"
   ]
  }
 ],
 "metadata": {
  "kernelspec": {
   "display_name": "Python 3.10.8 64-bit",
   "language": "python",
   "name": "python3"
  },
  "language_info": {
   "name": "python",
   "version": "3.10.8"
  },
  "orig_nbformat": 4,
  "vscode": {
   "interpreter": {
    "hash": "3103f0df81466cced26978c1f00aec304c6c4f54b027625b12ba1120a1fef288"
   }
  }
 },
 "nbformat": 4,
 "nbformat_minor": 2
}
